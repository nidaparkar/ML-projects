{
  "nbformat": 4,
  "nbformat_minor": 0,
  "metadata": {
    "kernelspec": {
      "display_name": "Python 3",
      "language": "python",
      "name": "python3"
    },
    "language_info": {
      "codemirror_mode": {
        "name": "ipython",
        "version": 3
      },
      "file_extension": ".py",
      "mimetype": "text/x-python",
      "name": "python",
      "nbconvert_exporter": "python",
      "pygments_lexer": "ipython3",
      "version": "3.7.6"
    },
    "colab": {
      "name": "Linear Regression (1).ipynb",
      "provenance": []
    }
  },
  "cells": [
    {
      "cell_type": "markdown",
      "metadata": {
        "id": "f6I-ii_LF-4P"
      },
      "source": [
        "# Q.1\n",
        "Instructions\n",
        "The path for the train and test files are stored in variables path_ames_train and path_ames_test\n",
        "Load the datasets from their file paths and store the same in variables train and test respectively\n",
        "Split the train data into features and targets. The target variable is the last column in the dataframe i.e. SalePrice. Store the features in X_train and target on y_train\n",
        "Repeat the same process as above on test data and store the features in X_test and target in y_test\n",
        "Print out the first 5 instances for training and test features\n",
        "\n"
      ]
    },
    {
      "cell_type": "code",
      "metadata": {
        "id": "GD0PxlHYF-4Q"
      },
      "source": [
        "# import packages\n",
        "import pandas as pd\n",
        "import numpy as np"
      ],
      "execution_count": null,
      "outputs": []
    },
    {
      "cell_type": "code",
      "metadata": {
        "id": "jwr148_aF-4W",
        "outputId": "e5994e8d-e6f1-4f60-d0a1-d1e382646a7a"
      },
      "source": [
        "path_ames_train=\"path_ames_train.csv\"\n",
        "train = pd.read_csv(path_ames_train)\n",
        "train.head()"
      ],
      "execution_count": null,
      "outputs": [
        {
          "output_type": "execute_result",
          "data": {
            "text/html": [
              "<div>\n",
              "<style scoped>\n",
              "    .dataframe tbody tr th:only-of-type {\n",
              "        vertical-align: middle;\n",
              "    }\n",
              "\n",
              "    .dataframe tbody tr th {\n",
              "        vertical-align: top;\n",
              "    }\n",
              "\n",
              "    .dataframe thead th {\n",
              "        text-align: right;\n",
              "    }\n",
              "</style>\n",
              "<table border=\"1\" class=\"dataframe\">\n",
              "  <thead>\n",
              "    <tr style=\"text-align: right;\">\n",
              "      <th></th>\n",
              "      <th>ExterQual</th>\n",
              "      <th>AllFlrsSF</th>\n",
              "      <th>GrLivArea</th>\n",
              "      <th>SimplOverallCond</th>\n",
              "      <th>GarageArea</th>\n",
              "      <th>TotRmsAbvGrd</th>\n",
              "      <th>LotFrontage</th>\n",
              "      <th>SalePrice</th>\n",
              "    </tr>\n",
              "  </thead>\n",
              "  <tbody>\n",
              "    <tr>\n",
              "      <th>0</th>\n",
              "      <td>4</td>\n",
              "      <td>1316</td>\n",
              "      <td>1316</td>\n",
              "      <td>2</td>\n",
              "      <td>397</td>\n",
              "      <td>6</td>\n",
              "      <td>65.0</td>\n",
              "      <td>169990</td>\n",
              "    </tr>\n",
              "    <tr>\n",
              "      <th>1</th>\n",
              "      <td>4</td>\n",
              "      <td>2028</td>\n",
              "      <td>2028</td>\n",
              "      <td>2</td>\n",
              "      <td>880</td>\n",
              "      <td>7</td>\n",
              "      <td>88.0</td>\n",
              "      <td>369900</td>\n",
              "    </tr>\n",
              "    <tr>\n",
              "      <th>2</th>\n",
              "      <td>3</td>\n",
              "      <td>1072</td>\n",
              "      <td>1072</td>\n",
              "      <td>2</td>\n",
              "      <td>525</td>\n",
              "      <td>5</td>\n",
              "      <td>35.0</td>\n",
              "      <td>140000</td>\n",
              "    </tr>\n",
              "    <tr>\n",
              "      <th>3</th>\n",
              "      <td>3</td>\n",
              "      <td>1048</td>\n",
              "      <td>1048</td>\n",
              "      <td>2</td>\n",
              "      <td>286</td>\n",
              "      <td>6</td>\n",
              "      <td>72.0</td>\n",
              "      <td>135000</td>\n",
              "    </tr>\n",
              "    <tr>\n",
              "      <th>4</th>\n",
              "      <td>3</td>\n",
              "      <td>1779</td>\n",
              "      <td>1779</td>\n",
              "      <td>2</td>\n",
              "      <td>546</td>\n",
              "      <td>6</td>\n",
              "      <td>80.0</td>\n",
              "      <td>197900</td>\n",
              "    </tr>\n",
              "  </tbody>\n",
              "</table>\n",
              "</div>"
            ],
            "text/plain": [
              "   ExterQual  AllFlrsSF  GrLivArea  SimplOverallCond  GarageArea  \\\n",
              "0          4       1316       1316                 2         397   \n",
              "1          4       2028       2028                 2         880   \n",
              "2          3       1072       1072                 2         525   \n",
              "3          3       1048       1048                 2         286   \n",
              "4          3       1779       1779                 2         546   \n",
              "\n",
              "   TotRmsAbvGrd  LotFrontage  SalePrice  \n",
              "0             6         65.0     169990  \n",
              "1             7         88.0     369900  \n",
              "2             5         35.0     140000  \n",
              "3             6         72.0     135000  \n",
              "4             6         80.0     197900  "
            ]
          },
          "metadata": {
            "tags": []
          },
          "execution_count": 2
        }
      ]
    },
    {
      "cell_type": "code",
      "metadata": {
        "id": "ewdbGYUuF-4b",
        "outputId": "bdc86f54-379c-4713-b117-a8e5bd15a84a"
      },
      "source": [
        "path_ames_test='path_ames_test.csv'\n",
        "test = pd.read_csv(path_ames_test)\n",
        "test.head()"
      ],
      "execution_count": null,
      "outputs": [
        {
          "output_type": "execute_result",
          "data": {
            "text/html": [
              "<div>\n",
              "<style scoped>\n",
              "    .dataframe tbody tr th:only-of-type {\n",
              "        vertical-align: middle;\n",
              "    }\n",
              "\n",
              "    .dataframe tbody tr th {\n",
              "        vertical-align: top;\n",
              "    }\n",
              "\n",
              "    .dataframe thead th {\n",
              "        text-align: right;\n",
              "    }\n",
              "</style>\n",
              "<table border=\"1\" class=\"dataframe\">\n",
              "  <thead>\n",
              "    <tr style=\"text-align: right;\">\n",
              "      <th></th>\n",
              "      <th>ExterQual</th>\n",
              "      <th>AllFlrsSF</th>\n",
              "      <th>GrLivArea</th>\n",
              "      <th>SimplOverallCond</th>\n",
              "      <th>GarageArea</th>\n",
              "      <th>TotRmsAbvGrd</th>\n",
              "      <th>LotFrontage</th>\n",
              "      <th>SalePrice</th>\n",
              "    </tr>\n",
              "  </thead>\n",
              "  <tbody>\n",
              "    <tr>\n",
              "      <th>0</th>\n",
              "      <td>3</td>\n",
              "      <td>1839</td>\n",
              "      <td>1839</td>\n",
              "      <td>3</td>\n",
              "      <td>416</td>\n",
              "      <td>7</td>\n",
              "      <td>110.0</td>\n",
              "      <td>257500</td>\n",
              "    </tr>\n",
              "    <tr>\n",
              "      <th>1</th>\n",
              "      <td>3</td>\n",
              "      <td>2126</td>\n",
              "      <td>2126</td>\n",
              "      <td>2</td>\n",
              "      <td>538</td>\n",
              "      <td>7</td>\n",
              "      <td>0.0</td>\n",
              "      <td>185000</td>\n",
              "    </tr>\n",
              "    <tr>\n",
              "      <th>2</th>\n",
              "      <td>4</td>\n",
              "      <td>1709</td>\n",
              "      <td>1709</td>\n",
              "      <td>2</td>\n",
              "      <td>380</td>\n",
              "      <td>7</td>\n",
              "      <td>24.0</td>\n",
              "      <td>130000</td>\n",
              "    </tr>\n",
              "    <tr>\n",
              "      <th>3</th>\n",
              "      <td>3</td>\n",
              "      <td>1902</td>\n",
              "      <td>1902</td>\n",
              "      <td>2</td>\n",
              "      <td>539</td>\n",
              "      <td>8</td>\n",
              "      <td>68.0</td>\n",
              "      <td>112000</td>\n",
              "    </tr>\n",
              "    <tr>\n",
              "      <th>4</th>\n",
              "      <td>3</td>\n",
              "      <td>1072</td>\n",
              "      <td>1072</td>\n",
              "      <td>2</td>\n",
              "      <td>525</td>\n",
              "      <td>5</td>\n",
              "      <td>35.0</td>\n",
              "      <td>148000</td>\n",
              "    </tr>\n",
              "  </tbody>\n",
              "</table>\n",
              "</div>"
            ],
            "text/plain": [
              "   ExterQual  AllFlrsSF  GrLivArea  SimplOverallCond  GarageArea  \\\n",
              "0          3       1839       1839                 3         416   \n",
              "1          3       2126       2126                 2         538   \n",
              "2          4       1709       1709                 2         380   \n",
              "3          3       1902       1902                 2         539   \n",
              "4          3       1072       1072                 2         525   \n",
              "\n",
              "   TotRmsAbvGrd  LotFrontage  SalePrice  \n",
              "0             7        110.0     257500  \n",
              "1             7          0.0     185000  \n",
              "2             7         24.0     130000  \n",
              "3             8         68.0     112000  \n",
              "4             5         35.0     148000  "
            ]
          },
          "metadata": {
            "tags": []
          },
          "execution_count": 3
        }
      ]
    },
    {
      "cell_type": "code",
      "metadata": {
        "id": "ZlsCrg2wF-4f"
      },
      "source": [
        "#X_train=train[['ExterQual','AllFlrsSF','GrLivArea','SimplOverallCond','GarageArea','TotRmsAbvGrd','LotFrontage']]\n",
        "X_train=train.iloc[ : ,  :-1 ]\n",
        "y_train=train['SalePrice']\n",
        "\n"
      ],
      "execution_count": null,
      "outputs": []
    },
    {
      "cell_type": "code",
      "metadata": {
        "id": "hHfpGB7DF-4j",
        "outputId": "88c7e0e6-d62b-465b-f159-998d0bc9b908"
      },
      "source": [
        "X_train.head(5)"
      ],
      "execution_count": null,
      "outputs": [
        {
          "output_type": "execute_result",
          "data": {
            "text/html": [
              "<div>\n",
              "<style scoped>\n",
              "    .dataframe tbody tr th:only-of-type {\n",
              "        vertical-align: middle;\n",
              "    }\n",
              "\n",
              "    .dataframe tbody tr th {\n",
              "        vertical-align: top;\n",
              "    }\n",
              "\n",
              "    .dataframe thead th {\n",
              "        text-align: right;\n",
              "    }\n",
              "</style>\n",
              "<table border=\"1\" class=\"dataframe\">\n",
              "  <thead>\n",
              "    <tr style=\"text-align: right;\">\n",
              "      <th></th>\n",
              "      <th>ExterQual</th>\n",
              "      <th>AllFlrsSF</th>\n",
              "      <th>GrLivArea</th>\n",
              "      <th>SimplOverallCond</th>\n",
              "      <th>GarageArea</th>\n",
              "      <th>TotRmsAbvGrd</th>\n",
              "      <th>LotFrontage</th>\n",
              "    </tr>\n",
              "  </thead>\n",
              "  <tbody>\n",
              "    <tr>\n",
              "      <th>0</th>\n",
              "      <td>4</td>\n",
              "      <td>1316</td>\n",
              "      <td>1316</td>\n",
              "      <td>2</td>\n",
              "      <td>397</td>\n",
              "      <td>6</td>\n",
              "      <td>65.0</td>\n",
              "    </tr>\n",
              "    <tr>\n",
              "      <th>1</th>\n",
              "      <td>4</td>\n",
              "      <td>2028</td>\n",
              "      <td>2028</td>\n",
              "      <td>2</td>\n",
              "      <td>880</td>\n",
              "      <td>7</td>\n",
              "      <td>88.0</td>\n",
              "    </tr>\n",
              "    <tr>\n",
              "      <th>2</th>\n",
              "      <td>3</td>\n",
              "      <td>1072</td>\n",
              "      <td>1072</td>\n",
              "      <td>2</td>\n",
              "      <td>525</td>\n",
              "      <td>5</td>\n",
              "      <td>35.0</td>\n",
              "    </tr>\n",
              "    <tr>\n",
              "      <th>3</th>\n",
              "      <td>3</td>\n",
              "      <td>1048</td>\n",
              "      <td>1048</td>\n",
              "      <td>2</td>\n",
              "      <td>286</td>\n",
              "      <td>6</td>\n",
              "      <td>72.0</td>\n",
              "    </tr>\n",
              "    <tr>\n",
              "      <th>4</th>\n",
              "      <td>3</td>\n",
              "      <td>1779</td>\n",
              "      <td>1779</td>\n",
              "      <td>2</td>\n",
              "      <td>546</td>\n",
              "      <td>6</td>\n",
              "      <td>80.0</td>\n",
              "    </tr>\n",
              "  </tbody>\n",
              "</table>\n",
              "</div>"
            ],
            "text/plain": [
              "   ExterQual  AllFlrsSF  GrLivArea  SimplOverallCond  GarageArea  \\\n",
              "0          4       1316       1316                 2         397   \n",
              "1          4       2028       2028                 2         880   \n",
              "2          3       1072       1072                 2         525   \n",
              "3          3       1048       1048                 2         286   \n",
              "4          3       1779       1779                 2         546   \n",
              "\n",
              "   TotRmsAbvGrd  LotFrontage  \n",
              "0             6         65.0  \n",
              "1             7         88.0  \n",
              "2             5         35.0  \n",
              "3             6         72.0  \n",
              "4             6         80.0  "
            ]
          },
          "metadata": {
            "tags": []
          },
          "execution_count": 7
        }
      ]
    },
    {
      "cell_type": "code",
      "metadata": {
        "id": "t1OsnHLoF-4n",
        "outputId": "41216806-2bfa-4bd8-9f98-510030644bd0"
      },
      "source": [
        "y_train.head(5)"
      ],
      "execution_count": null,
      "outputs": [
        {
          "output_type": "execute_result",
          "data": {
            "text/plain": [
              "0    169990\n",
              "1    369900\n",
              "2    140000\n",
              "3    135000\n",
              "4    197900\n",
              "Name: SalePrice, dtype: int64"
            ]
          },
          "metadata": {
            "tags": []
          },
          "execution_count": 9
        }
      ]
    },
    {
      "cell_type": "code",
      "metadata": {
        "id": "m3AS3IdPF-4q"
      },
      "source": [
        "#X_test=test[['ExterQual','AllFlrsSF','GrLivArea','SimplOverallCond','GarageArea','TotRmsAbvGrd','LotFrontage']]\n",
        "X_test=test.iloc[:,:-1]\n",
        "y_test=test['SalePrice']\n"
      ],
      "execution_count": null,
      "outputs": []
    },
    {
      "cell_type": "code",
      "metadata": {
        "id": "a9nsTt5SF-4u",
        "outputId": "006be5f6-9912-40ee-e757-189dfac4cbc8"
      },
      "source": [
        "X_test.head(5)"
      ],
      "execution_count": null,
      "outputs": [
        {
          "output_type": "execute_result",
          "data": {
            "text/html": [
              "<div>\n",
              "<style scoped>\n",
              "    .dataframe tbody tr th:only-of-type {\n",
              "        vertical-align: middle;\n",
              "    }\n",
              "\n",
              "    .dataframe tbody tr th {\n",
              "        vertical-align: top;\n",
              "    }\n",
              "\n",
              "    .dataframe thead th {\n",
              "        text-align: right;\n",
              "    }\n",
              "</style>\n",
              "<table border=\"1\" class=\"dataframe\">\n",
              "  <thead>\n",
              "    <tr style=\"text-align: right;\">\n",
              "      <th></th>\n",
              "      <th>ExterQual</th>\n",
              "      <th>AllFlrsSF</th>\n",
              "      <th>GrLivArea</th>\n",
              "      <th>SimplOverallCond</th>\n",
              "      <th>GarageArea</th>\n",
              "      <th>TotRmsAbvGrd</th>\n",
              "      <th>LotFrontage</th>\n",
              "    </tr>\n",
              "  </thead>\n",
              "  <tbody>\n",
              "    <tr>\n",
              "      <th>0</th>\n",
              "      <td>3</td>\n",
              "      <td>1839</td>\n",
              "      <td>1839</td>\n",
              "      <td>3</td>\n",
              "      <td>416</td>\n",
              "      <td>7</td>\n",
              "      <td>110.0</td>\n",
              "    </tr>\n",
              "    <tr>\n",
              "      <th>1</th>\n",
              "      <td>3</td>\n",
              "      <td>2126</td>\n",
              "      <td>2126</td>\n",
              "      <td>2</td>\n",
              "      <td>538</td>\n",
              "      <td>7</td>\n",
              "      <td>0.0</td>\n",
              "    </tr>\n",
              "    <tr>\n",
              "      <th>2</th>\n",
              "      <td>4</td>\n",
              "      <td>1709</td>\n",
              "      <td>1709</td>\n",
              "      <td>2</td>\n",
              "      <td>380</td>\n",
              "      <td>7</td>\n",
              "      <td>24.0</td>\n",
              "    </tr>\n",
              "    <tr>\n",
              "      <th>3</th>\n",
              "      <td>3</td>\n",
              "      <td>1902</td>\n",
              "      <td>1902</td>\n",
              "      <td>2</td>\n",
              "      <td>539</td>\n",
              "      <td>8</td>\n",
              "      <td>68.0</td>\n",
              "    </tr>\n",
              "    <tr>\n",
              "      <th>4</th>\n",
              "      <td>3</td>\n",
              "      <td>1072</td>\n",
              "      <td>1072</td>\n",
              "      <td>2</td>\n",
              "      <td>525</td>\n",
              "      <td>5</td>\n",
              "      <td>35.0</td>\n",
              "    </tr>\n",
              "  </tbody>\n",
              "</table>\n",
              "</div>"
            ],
            "text/plain": [
              "   ExterQual  AllFlrsSF  GrLivArea  SimplOverallCond  GarageArea  \\\n",
              "0          3       1839       1839                 3         416   \n",
              "1          3       2126       2126                 2         538   \n",
              "2          4       1709       1709                 2         380   \n",
              "3          3       1902       1902                 2         539   \n",
              "4          3       1072       1072                 2         525   \n",
              "\n",
              "   TotRmsAbvGrd  LotFrontage  \n",
              "0             7        110.0  \n",
              "1             7          0.0  \n",
              "2             7         24.0  \n",
              "3             8         68.0  \n",
              "4             5         35.0  "
            ]
          },
          "metadata": {
            "tags": []
          },
          "execution_count": 11
        }
      ]
    },
    {
      "cell_type": "code",
      "metadata": {
        "id": "I5NhaLIBF-4y",
        "outputId": "05a4c6a4-0ffc-4c79-aa81-f57eb7c92856"
      },
      "source": [
        "y_test.head(5)"
      ],
      "execution_count": null,
      "outputs": [
        {
          "output_type": "execute_result",
          "data": {
            "text/plain": [
              "0    257500\n",
              "1    185000\n",
              "2    130000\n",
              "3    112000\n",
              "4    148000\n",
              "Name: SalePrice, dtype: int64"
            ]
          },
          "metadata": {
            "tags": []
          },
          "execution_count": 12
        }
      ]
    },
    {
      "cell_type": "markdown",
      "metadata": {
        "id": "EamWfSSKF-42"
      },
      "source": [
        "Quiz: Chapter 1-Why Linear Regression\n",
        " \n",
        "QUESTION 1 OF 3 (din get)\n",
        "Which of the following is not an assumption of Linear Regression modeling?\n",
        "Normal distribution of Error Terms\n",
        "Heteroscadisticity(ans)\n",
        "Homoscadisticity\n",
        "None of them\n",
        "\n",
        "QUESTION 2 OF 3(din get)\n",
        "A regression analysis is inappropriate when the pattern of data points form a spiral.\n",
        "False\n",
        "True(ans)\n",
        "\n",
        "QUESTION 3 OF 3\n",
        "For a given line having weights ( θ0,θ1) = (3,2) , and the y-coordinate ( ytrue)= 200, What would be the residual ( ytrue−ypred ) for x = 100.\n",
        "-3\n",
        "3\n",
        "102\n",
        "-102\n",
        "\n",
        "soln: ypred=θ0 + θ1.x\n",
        "ypred= 3+2(100)\n",
        "ypred=203\n",
        "residual=ytrue-ypred=200-203=-3\n"
      ]
    },
    {
      "cell_type": "markdown",
      "metadata": {
        "id": "cJzIY0ocF-42"
      },
      "source": [
        "# Q.2 (func was difficult)\n",
        "Find regression co-efficients for `GarageArea` using OLS\n",
        "In this task, you will be calculating the regression coefficients as well as plotting a regression line for GarageArea against the target variable SalePrice\n",
        "Instructions\n",
        "First define a function estimate_coef(x,y) to estimate the coefficients of regression which takes two arguments; a feature (x) and a target variable(y) and returns a tuple containing the two coefficients for regression. Consult the material on the topic if you get stuck at any point\n",
        "Now, define a function plot_regression_line(x,y,b) which will plot the regression line and takes three arguments; a feature(x), a target variable(y) and a tuple(b) which consists of the regression coefficients\n",
        "Now first estimate the coefficients of the regression line for the feature GarageArea with respect to the target using the estimate_coef() function that you had defined. Store the coefficients in variable values\n",
        "Using the output of the above step plot the regression line and with the help of plot_regression_line() and display it\n"
      ]
    },
    {
      "cell_type": "code",
      "metadata": {
        "id": "1W7FdKMXF-43"
      },
      "source": [
        "import matplotlib.pyplot as plt\n"
      ],
      "execution_count": null,
      "outputs": []
    },
    {
      "cell_type": "code",
      "metadata": {
        "id": "jtrVJmunF-46"
      },
      "source": [
        "# import packages\n",
        "import matplotlib.pyplot as plt\n",
        " \n",
        " \n",
        "# Code starts here\n",
        "def estimate_coef(x, y):\n",
        "   # number of observations/points\n",
        "   n = np.size(x)\n",
        "   # mean of x and y vector\n",
        "   m_x, m_y = np.mean(x), np.mean(y)\n",
        "   # calculating cross-deviation and deviation about x\n",
        "   SS_xy = np.sum(y*x)- n*m_y*m_x\n",
        "   SS_xx = np.sum(x*x) - n*m_x*m_x\n",
        "   # calculating regression coefficients\n",
        "   b_1 = SS_xy / SS_xx\n",
        "   b_0 = m_y - b_1*m_x\n",
        "   return(b_0, b_1)\n",
        "def plot_regression_line(x, y, b):\n",
        "   # plotting the actual points as scatter plot\n",
        "   plt.scatter(x, y, color = \"r\",\n",
        "              marker = \"o\", s = 20)\n",
        "   # predicted response vector\n",
        "   y_pred = b[0] + b[1]*x\n",
        "   # plotting the regression line\n",
        "   plt.plot(x, y_pred, color = \"g\")\n",
        "   # putting labels\n",
        "   plt.xlabel('x')\n",
        "   plt.ylabel('y')\n",
        "   # function to show plot\n",
        "plt.show()\n",
        " \n",
        "\n"
      ],
      "execution_count": null,
      "outputs": []
    },
    {
      "cell_type": "code",
      "metadata": {
        "id": "krxTgHNiF-4-",
        "outputId": "3c350ded-2bca-409f-bb12-da317fe336ea"
      },
      "source": [
        "# Visualize your results\n",
        "values = estimate_coef(X_train['GarageArea'], y_train)\n",
        "plot_regression_line(X_train['GarageArea'], y_train, values)\n",
        "# Code ends here"
      ],
      "execution_count": null,
      "outputs": [
        {
          "output_type": "display_data",
          "data": {
            "image/png": "[encoded data removed]",
            "text/plain": [
              "<Figure size 432x288 with 1 Axes>"
            ]
          },
          "metadata": {
            "tags": [],
            "needs_background": "light"
          }
        }
      ]
    },
    {
      "cell_type": "markdown",
      "metadata": {
        "id": "12QbBGCSF-5B"
      },
      "source": [
        "# Q.3\n",
        "Predict `SalePrice` with scikit-learn\n",
        "In this task, you are going to make predictions and then evaluate based on different error metrics like RMSE, MAE and R-squared using scikit-learn.\n",
        "Instructions\n",
        "Instantiate a linear regression model with LinearRegression() and save it to a variable\n",
        "Transform the target SalePrice using logarithmic transformation using np.log() to normalize it\n",
        "Then fit this model on the training data (both features and target) using .fit() method of the model\n",
        "After that make predictions on the test features using .predict() method of the model. Save these predictions in y_pred for calculating the error.\n"
      ]
    },
    {
      "cell_type": "code",
      "metadata": {
        "id": "eZF4zcp2F-5C"
      },
      "source": [
        "y_train_log=np.log(y_train)"
      ],
      "execution_count": null,
      "outputs": []
    },
    {
      "cell_type": "code",
      "metadata": {
        "id": "euvoUMmoF-5G",
        "outputId": "a421f52d-30c3-4fb0-905f-b2b5739cb826"
      },
      "source": [
        "y_train_log.head(5)"
      ],
      "execution_count": null,
      "outputs": [
        {
          "output_type": "execute_result",
          "data": {
            "text/plain": [
              "0    12.043495\n",
              "1    12.820988\n",
              "2    11.849398\n",
              "3    11.813030\n",
              "4    12.195517\n",
              "Name: SalePrice, dtype: float64"
            ]
          },
          "metadata": {
            "tags": []
          },
          "execution_count": 24
        }
      ]
    },
    {
      "cell_type": "code",
      "metadata": {
        "id": "89sOrunFF-5J"
      },
      "source": [
        "# import packages\n",
        "from sklearn.linear_model import LinearRegression \n",
        " \n",
        "# instantiate linear regression model\n",
        "linreg = LinearRegression()\n",
        " \n",
        "# fit model on training data using log value of y_train\n",
        "linreg.fit(X_train, y_train_log)\n",
        " \n",
        "# make predictions on test data\n",
        "y_pred = linreg.predict(X_test)\n",
        "\n"
      ],
      "execution_count": null,
      "outputs": []
    },
    {
      "cell_type": "code",
      "metadata": {
        "id": "EsVJy1o2F-5N",
        "outputId": "5e37f944-a3ad-4e16-a88a-846b4a4ba2c2"
      },
      "source": [
        "y_pred"
      ],
      "execution_count": null,
      "outputs": [
        {
          "output_type": "execute_result",
          "data": {
            "text/plain": [
              "array([12.11227082, 12.19875709, 12.17873549, 12.09451926, 11.79496421,\n",
              "       11.62810742, 12.23094302, 11.66779875, 12.83933008, 11.42802489,\n",
              "       13.03969447, 11.48996121, 11.96267792, 12.15572954, 11.84253379,\n",
              "       11.80049608, 11.63719563, 11.95712008, 12.33129216, 12.18239258,\n",
              "       12.02229166, 12.0255932 , 12.23719561, 11.87200608, 12.44798664,\n",
              "       12.643851  , 12.47162239, 12.5982682 , 11.8215798 , 11.50148537,\n",
              "       11.789251  , 13.22072258, 11.50903908, 11.87175444, 12.20648447,\n",
              "       12.23039239, 11.69069064, 12.89000353, 11.7661653 , 12.30551334,\n",
              "       12.29771967, 11.68183125, 12.84865739, 11.97590572, 12.48417858,\n",
              "       12.05078167, 11.76415223, 11.68701845, 12.25244997, 12.23563131,\n",
              "       11.51096238, 12.6868023 , 11.79805816, 11.80839364, 12.05803133,\n",
              "       12.79445006, 12.15644059, 12.02083321, 11.5972928 , 12.61133737,\n",
              "       12.17873549, 12.98542578, 12.19936653, 11.39135943, 11.90586361,\n",
              "       11.8061422 , 11.79982215, 11.72513481, 11.82121504, 11.56637513,\n",
              "       11.81933974, 12.42686173, 11.68135512, 11.73767058, 11.78233782,\n",
              "       12.74326629, 12.23338334, 11.7939831 , 12.11819825, 12.03048394,\n",
              "       11.68266492, 12.12712056, 11.90938147, 12.29955162, 12.45304782,\n",
              "       12.1158874 , 11.87991759, 12.24021247, 11.91744569, 11.8183186 ,\n",
              "       12.50615175, 12.1375194 , 11.58971462, 11.72636454, 11.63459047,\n",
              "       11.88480366, 12.15526438, 12.26590528, 13.04953318, 12.28186559,\n",
              "       12.32674689, 11.84409995, 11.93199572, 11.69211204, 11.70018651,\n",
              "       12.11670782, 12.51640236, 12.57485591, 12.32705351, 11.92622652,\n",
              "       11.6862094 , 12.36477339, 12.07473212, 11.78271   , 11.32985799,\n",
              "       11.73571905, 12.62594874, 12.81379998, 12.20129924, 12.51632293,\n",
              "       12.21841653, 12.5823989 , 11.71435727, 11.89019067, 11.96550613,\n",
              "       11.5280544 , 11.67516422, 12.4678313 , 11.58752619, 12.48170867,\n",
              "       12.47862706, 11.84850904, 11.69121489, 12.29370377, 12.44371486,\n",
              "       12.28054085, 12.24909651, 11.61319402, 11.91487052, 11.86840427,\n",
              "       11.64726503, 12.59520997, 12.16486312, 11.84101696, 12.06636477,\n",
              "       11.93760694, 12.3307774 , 11.70575984, 11.63296814, 11.89129321,\n",
              "       11.82982961, 11.90139964, 12.19672361, 11.85108493, 12.92933893,\n",
              "       11.98491553, 11.57635224, 11.58499973, 11.50805023, 11.89922198,\n",
              "       12.04396888, 12.04744607, 11.95895367, 12.21663376, 11.67068064,\n",
              "       11.70030147, 12.40205447, 12.42036159, 11.51955271, 11.80310958,\n",
              "       12.32654451, 12.11743224, 12.00879437, 11.93764444, 11.99675635,\n",
              "       12.10883467, 13.14701159, 11.85470772, 11.63193185, 11.75102253,\n",
              "       11.80323969, 12.70259578, 12.15545884, 11.93794973, 12.12127975,\n",
              "       12.36037884, 11.82521344, 12.00418425, 12.07759098, 11.82645624,\n",
              "       11.44907288, 12.17814015, 12.04679459, 11.57678353, 11.66550057,\n",
              "       11.8399987 , 12.00347863, 11.5136164 , 12.7779323 , 11.9549082 ,\n",
              "       12.40986742, 12.07929626, 12.6713032 , 11.91885273, 12.17589121,\n",
              "       11.85394798, 11.75840026, 11.46815018, 11.84547767, 11.94838787,\n",
              "       13.18652715, 12.55796296, 11.70135142, 12.48875471, 12.55406488,\n",
              "       11.77174461, 12.27118603, 12.14117083, 11.69371398, 11.93298946,\n",
              "       11.7384902 , 12.970298  , 11.62537494, 11.59287262, 12.36147802,\n",
              "       12.14998731, 11.71136005, 12.27409416, 11.8740295 , 11.7751253 ,\n",
              "       12.21957196, 12.28853847, 12.11493594, 11.71193265, 12.33250862,\n",
              "       12.05561594, 12.7067329 , 12.56709692, 12.4100063 , 11.99481002,\n",
              "       12.19385718, 11.85050997, 11.83435354, 11.97667415, 11.5138426 ,\n",
              "       12.41560667, 11.73020719, 12.04863283, 12.49596194, 12.11497669,\n",
              "       11.85274241, 11.93520819, 12.12038933, 11.84397818, 12.27161042,\n",
              "       12.58709183, 11.97757653, 12.41630734, 11.54758587, 12.73344354,\n",
              "       11.69102664, 11.70250058, 12.70721356, 12.27331177, 12.15188932,\n",
              "       12.13637047, 11.91545409, 12.2461217 , 12.17794617, 12.7493585 ,\n",
              "       11.86406128, 11.76375043, 11.98230344, 12.42741362, 12.28738732,\n",
              "       12.90041852, 12.0158569 , 11.92495846, 11.67720943, 11.5858002 ,\n",
              "       11.95900144, 11.74488456, 11.89465559, 11.76096931, 12.07657923,\n",
              "       11.6994464 , 11.96580469, 12.78918226, 12.54892387, 12.09242315,\n",
              "       12.25502625, 11.61421594])"
            ]
          },
          "metadata": {
            "tags": []
          },
          "execution_count": 30
        }
      ]
    },
    {
      "cell_type": "code",
      "metadata": {
        "id": "D4ar3kyqF-5Q",
        "outputId": "15e2e3a4-7727-4aa4-b495-cbd6876d369f"
      },
      "source": [
        "# fit model on training data withot using log value of y_train\n",
        "linreg.fit(X_train, y_train)\n",
        "y_pred_1 = linreg.predict(X_test)\n",
        "y_pred_1\n",
        "#if you compare output by using log the range decreases(imp)"
      ],
      "execution_count": null,
      "outputs": [
        {
          "output_type": "execute_result",
          "data": {
            "text/plain": [
              "array([189715.38797661, 201089.27541675, 208601.26483873, 188722.43820333,\n",
              "       135591.49204101, 111447.02537154, 219901.8051879 , 112660.41364798,\n",
              "       329737.6579164 ,  83442.59865053, 363024.28943472,  95374.03098048,\n",
              "       161830.82455795, 194042.53316233, 147644.49622145, 133159.93396042,\n",
              "       108190.61900847, 156516.87630985, 236547.95980397, 208653.56828601,\n",
              "       175762.39439025, 175750.95584865, 215402.42483962, 154127.46130938,\n",
              "       254625.08460725, 283731.80500438, 254638.42830588, 281619.19752538,\n",
              "       137288.31536251,  89498.3220287 , 137297.23578892, 385940.83527996,\n",
              "        86536.32872972, 145211.72414108, 217022.98832066, 207407.26091919,\n",
              "       113349.47552751, 338346.33919952, 127600.29780274, 231609.89601683,\n",
              "       229734.01735897, 120002.64875304, 318681.41368753, 162413.3644366 ,\n",
              "       260810.90580748, 176104.65298145, 129140.7602772 , 113414.76222186,\n",
              "       224396.31518423, 220768.56960494,  86079.96889508, 296179.72667326,\n",
              "       134112.26145181, 135128.81939012, 182788.91833913, 323944.53335967,\n",
              "       198630.89401795, 183294.91058166, 105346.86408895, 284087.43902775,\n",
              "       208601.26483873, 352484.96304176, 208673.27110411,  69062.92457489,\n",
              "       159499.96470171, 140748.81847956, 143547.38373522, 121101.38758043,\n",
              "       143509.55225887,  96573.9888726 , 139577.82403535, 253996.41595828,\n",
              "       113346.37629659, 128234.39214289, 130306.55987495, 304133.99421389,\n",
              "       211340.36770686, 132566.09781667, 200201.88707258, 182503.58966431,\n",
              "       114589.3563    , 189675.34425079, 157995.63937789, 233174.89287376,\n",
              "       257748.58186374, 197572.06331068, 148230.70648205, 222610.97606659,\n",
              "       159443.91830475, 143601.97910542, 273991.61210295, 200736.9557226 ,\n",
              "       114689.81769977, 122542.24520214, 113489.53560867, 150035.03190188,\n",
              "       197550.42629157, 225814.53759859, 362859.16408243, 226075.40531329,\n",
              "       236932.23135541, 146134.23935558, 158166.04679873, 116173.41326725,\n",
              "       123916.44986138, 187008.36487874, 265412.47622283, 277188.58961277,\n",
              "       229382.62280657, 161057.04925689, 114881.54223244, 240689.84243767,\n",
              "       185989.67290326, 126220.12929565,  65671.54445226, 123885.78246813,\n",
              "       283553.60430561, 311023.93346868, 214724.65002889, 270576.3177856 ,\n",
              "       218010.58729398, 285831.67756907, 115095.5499008 , 155400.95052268,\n",
              "       170978.42774707,  87973.18380299, 108422.52843335, 257491.15361192,\n",
              "       104110.34458024, 251175.11167054, 253014.23296745, 145358.17568557,\n",
              "       121994.77764256, 230530.7141639 , 255040.13338168, 222239.21902456,\n",
              "       227949.32873913, 109451.7995438 , 156886.62907032, 150980.82774626,\n",
              "       113446.95798933, 279569.85104183, 205845.06845886, 148305.32865153,\n",
              "       181919.25298401, 157253.83658329, 235787.59592263, 125286.69081298,\n",
              "       113783.72201713, 148789.39003244, 145910.43349612, 151171.15606649,\n",
              "       213038.15280389, 141096.69436341, 328315.95948154, 173803.29834822,\n",
              "       102738.65034503,  99228.25835353,  88023.94013742, 159098.82135595,\n",
              "       170611.44923853, 185928.60018264, 153752.21098574, 209045.19835255,\n",
              "       119602.209413  , 118047.7619513 , 246646.02875082, 254388.86106626,\n",
              "        95446.48967238, 139243.20216424, 233856.59301624, 184308.09480209,\n",
              "       182424.3409112 , 163956.28739586, 166856.14073445, 184370.46310648,\n",
              "       377229.18228194, 143712.23249487, 112291.2146281 , 132089.52405976,\n",
              "       138900.79726603, 300045.99511928, 195677.93630276, 161521.40509947,\n",
              "       201128.77318443, 241726.67946095, 145389.64337304, 182386.30485463,\n",
              "       181051.77057671, 142884.63323821,  83765.30456851, 203016.0512833 ,\n",
              "       187326.58565037, 103119.98387807, 118859.76121127, 147307.82773516,\n",
              "       176378.73487783,  93654.18122813, 319999.4124821 , 166723.45801277,\n",
              "       250048.65586709, 182106.91018296, 288007.00109209, 154590.78324896,\n",
              "       191600.99831409, 149053.60524419, 123011.80122103,  84828.06237053,\n",
              "       141640.50599636, 157538.4066659 , 382865.03994565, 272207.03613426,\n",
              "       124374.39065787, 264349.28572534, 267941.07046115, 128855.75375866,\n",
              "       224518.74954292, 202658.17914099, 113228.2945955 , 158722.51854215,\n",
              "       123467.02148923, 353881.02655737, 111198.46776548, 105849.59149678,\n",
              "       242023.39650546, 194090.91758567, 118351.82927785, 227651.96661417,\n",
              "       146919.30419189, 135514.86328537, 212214.74461618, 226874.1300149 ,\n",
              "       198876.03145789, 125593.89317313, 231455.16954058, 176803.83950192,\n",
              "       299892.83370949, 256294.61623319, 247196.82517866, 172375.25300221,\n",
              "       203822.28671291, 149193.83648367, 136981.7771126 , 157745.54338422,\n",
              "        95543.76885833, 245561.56785108, 121785.73775709, 178031.08236714,\n",
              "       263912.56498811, 192437.68612646, 148641.70548133, 162018.51775542,\n",
              "       201964.01125176, 142200.36837955, 221836.99340066, 277703.46907945,\n",
              "       162978.91088918, 251678.82000736,  87574.29548815, 311325.57209185,\n",
              "       121008.81088829, 123639.11619892, 298037.48723841, 234801.8913268 ,\n",
              "       193621.05596631, 201541.11624065, 170686.47057973, 222180.19279987,\n",
              "       211468.69818292, 313847.47657022, 150498.8932093 , 133907.3672802 ,\n",
              "       161303.69264929, 251532.25604113, 217418.41116579, 328139.38011734,\n",
              "       181225.87659712, 166294.98972708, 113665.34746911, 105077.68496298,\n",
              "       161160.03034754, 124715.07082799, 153997.14280383, 131323.69408012,\n",
              "       195021.6629645 , 116483.71974345, 162363.2697915 , 313755.1740005 ,\n",
              "       275587.54283265, 199869.5860194 , 223527.23181485, 108368.77921041])"
            ]
          },
          "metadata": {
            "tags": []
          },
          "execution_count": 26
        }
      ]
    },
    {
      "cell_type": "markdown",
      "metadata": {
        "id": "6Xh9nf5UF-5T"
      },
      "source": [
        "# Q.4\n",
        "Calculate MAE\n",
        "In this task, you will be calculating the MAE using scikit-learn\n",
        "Instructions\n",
        "Calculate the MAE for the original target using mean_absolute_error() with the test target and prediction as arguments and save it to a variable mae\n",
        "Keep in mind to transform the predicted target (transformed before using log transformation) to its original scale using np.exp() on the predicted target\n",
        "Print it out\n"
      ]
    },
    {
      "cell_type": "code",
      "metadata": {
        "id": "7kA8ExN2F-5U",
        "outputId": "27de26f9-3cdf-4aa8-848d-09dcdeab0aae"
      },
      "source": [
        "# import packages\n",
        "from sklearn.metrics import mean_absolute_error\n",
        "\n",
        "mae=mean_absolute_error(y_test,np.exp(y_pred))\n",
        "mae"
      ],
      "execution_count": null,
      "outputs": [
        {
          "output_type": "execute_result",
          "data": {
            "text/plain": [
              "29158.295036636504"
            ]
          },
          "metadata": {
            "tags": []
          },
          "execution_count": 32
        }
      ]
    },
    {
      "cell_type": "markdown",
      "metadata": {
        "id": "c3uKbFGeF-5X"
      },
      "source": [
        "# Q.5\n",
        "Calculate RMSE\n",
        "In this task, you will be calculating the RMSE for the fitted model (done in the previous task)\n",
        "Instructions\n",
        "First, calculate the mean squared error with mean_squared_error() with the test target and prediction as arguments\n",
        "Then find its square-root which will give the value of RMSE and save it to a variable rmse\n",
        "Here also keep in mind to transform the predicted target (transformed before using log transformation) to its original scale using np.exp() on the predicted target\n",
        "Print it out\n"
      ]
    },
    {
      "cell_type": "code",
      "metadata": {
        "id": "6T_fXhf8F-5Y",
        "outputId": "c5632589-445b-460e-ba47-148d767b66bf"
      },
      "source": [
        "# import packages\n",
        "import numpy as np\n",
        "from sklearn.metrics import mean_squared_error\n",
        "mse=mean_squared_error(y_test,np.exp(y_pred))\n",
        "rmse=np.sqrt(mse)\n",
        "rmse"
      ],
      "execution_count": null,
      "outputs": [
        {
          "output_type": "execute_result",
          "data": {
            "text/plain": [
              "42842.8688912249"
            ]
          },
          "metadata": {
            "tags": []
          },
          "execution_count": 36
        }
      ]
    },
    {
      "cell_type": "code",
      "metadata": {
        "id": "Ol1puwzVF-5c",
        "outputId": "f4452cf4-b99c-44df-8e19-add04138005a"
      },
      "source": [
        "from sklearn.metrics import mean_squared_error\n",
        "MSE_1=mean_squared_error(y_test,y_pred_1)\n",
        "rmse_1=MSE_1**0.5\n",
        "rmse_1"
      ],
      "execution_count": null,
      "outputs": [
        {
          "output_type": "execute_result",
          "data": {
            "text/plain": [
              "42598.447039459184"
            ]
          },
          "metadata": {
            "tags": []
          },
          "execution_count": 38
        }
      ]
    },
    {
      "cell_type": "markdown",
      "metadata": {
        "id": "vfyp0vN2F-5f"
      },
      "source": [
        "# Q.6\n",
        "Calculate R-squared score\n",
        "In this task, you will be calculating the R2 score for the model that you had built\n",
        "Instructions\n",
        "Calculate the R2 score for the original target using r2_score() and store it in a variable rsquared The syntax for the same is\n",
        "\n",
        "\n",
        "where y_test is the original target and y_pred is the predicted target\n",
        "Here also keep in mind to transform the predicted target (transformed before using log transformation) to its original scale using np.exp() on the predicted target\n"
      ]
    },
    {
      "cell_type": "code",
      "metadata": {
        "id": "GQCWErcmF-5g",
        "outputId": "4a2e9904-afa0-4606-8cbd-4984b87d6ec0"
      },
      "source": [
        "#import packages\n",
        "from sklearn.metrics import r2_score\n",
        " \n",
        "#R-squared calculation\n",
        "rsqaured = r2_score(y_test, np.exp(y_pred))\n",
        "rsqaured"
      ],
      "execution_count": null,
      "outputs": [
        {
          "output_type": "execute_result",
          "data": {
            "text/plain": [
              "0.7378446924962254"
            ]
          },
          "metadata": {
            "tags": []
          },
          "execution_count": 40
        }
      ]
    },
    {
      "cell_type": "markdown",
      "metadata": {
        "id": "JA2WoSMFF-5j"
      },
      "source": [
        "===================================================================\n",
        "Quiz: Chapter 3- Implementing Linear Regression with Sklearn\n",
        "\n",
        "QUESTION 1 OF 2\n",
        "RMSE punishes errors in prediction more severely as compared to MAE.\n",
        "True..............ans\n",
        "False\n",
        "\n",
        "QUESTION 2 OF 2\n",
        "Look at the following:\n",
        "#instantiate linear model\n",
        "model = LinearRegression()\n",
        " \n",
        "#fit model on training data\n",
        "model.fit(X_train, (y_train))\n",
        " \n",
        " \n",
        "var = model.predict(X_test)\n",
        " \n",
        "What is 'var' in the above code snippet?\n",
        "Array of residual errors\n",
        "Array of predicted values.........ans\n",
        "Array of 0s\n",
        "Array of 1s\n"
      ]
    },
    {
      "cell_type": "code",
      "metadata": {
        "id": "DE-n6XXiF-5k"
      },
      "source": [
        ""
      ],
      "execution_count": null,
      "outputs": []
    }
  ]
}