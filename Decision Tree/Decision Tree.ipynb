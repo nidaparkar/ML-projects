{
 "cells": [
  {
   "cell_type": "markdown",
   "metadata": {},
   "source": [
    "Deeper understanding of the problem\n",
    "In the previous topic, you have understood the need for decision tree and its comparison to linear models. In this topic, we will understand the bank marketing data in more detail. We will look at some more features of the dataset. These features are a subset of the original 17 features of the original dataset on which some preprocessing is done. Before we apply machine learning algorithm on any data, this analysis is very essential, and some of this has already been covered in the data pre-processing module. Let us look at the features of the entire data.\n",
    "Input variables:\n",
    "bank client data:\n",
    "age (numeric)\n",
    "balance: average yearly balance, in euros (numeric)\n",
    "housing_cat: has housing loan? (binary: \"yes\",\"no\")\n",
    "related with the last contact of the current campaign:\n",
    "duration: last contact duration, in seconds (numeric)\n",
    "other attributes:\n",
    "campaign: number of contacts performed during this campaign and for this client (numeric, includes last contact)\n",
    "pdays: number of days that passed by after the client was last contacted from a previous campaign (numeric, 10000 means client was not previously contacted)\n",
    "poutcome_success: whether the previous marketing campaign was successful(categorical: 1(\"success\"),0(\"failure or unknown\"))\n",
    "output variable (desired target):\n",
    "y - has the client subscribed a term deposit? (binary: \"yes\",\"no\")\n"
   ]
  },
  {
   "cell_type": "markdown",
   "metadata": {},
   "source": [
    "# Q.1)\n",
    " \n",
    "Understanding the data\n",
    "In this task, you will load the dataset that you will be working on throughout this concept. Understanding the data is the first step before applying any ML algorithm.\n",
    "Instructions\n",
    "Load the features data from feature_path using the read_csv() method from pandas. Save it as bank_full\n",
    "Load the labels from label_path using the read_csv() method. Save it as bank_full_labels\n",
    "Look at the first 5 rows of the data using the head() method.\n"
   ]
  },
  {
   "cell_type": "code",
   "execution_count": 1,
   "metadata": {},
   "outputs": [],
   "source": [
    "# import packages\n",
    "import pandas as pd\n",
    "feature_path='data_subset.csv'\n",
    "label_path='data_subset_label.csv'\n",
    "# Code starts here\n",
    "bank_small=pd.read_csv(feature_path)\n",
    "bank_small_labels=pd.read_csv(label_path)\n",
    "\n"
   ]
  },
  {
   "cell_type": "code",
   "execution_count": 2,
   "metadata": {},
   "outputs": [
    {
     "data": {
      "text/html": [
       "<div>\n",
       "<style scoped>\n",
       "    .dataframe tbody tr th:only-of-type {\n",
       "        vertical-align: middle;\n",
       "    }\n",
       "\n",
       "    .dataframe tbody tr th {\n",
       "        vertical-align: top;\n",
       "    }\n",
       "\n",
       "    .dataframe thead th {\n",
       "        text-align: right;\n",
       "    }\n",
       "</style>\n",
       "<table border=\"1\" class=\"dataframe\">\n",
       "  <thead>\n",
       "    <tr style=\"text-align: right;\">\n",
       "      <th></th>\n",
       "      <th>age</th>\n",
       "      <th>balance</th>\n",
       "      <th>duration</th>\n",
       "      <th>campaign</th>\n",
       "      <th>pdays</th>\n",
       "      <th>housing_cat</th>\n",
       "      <th>poutcome_success</th>\n",
       "    </tr>\n",
       "  </thead>\n",
       "  <tbody>\n",
       "    <tr>\n",
       "      <th>0</th>\n",
       "      <td>59</td>\n",
       "      <td>2343</td>\n",
       "      <td>1042</td>\n",
       "      <td>1</td>\n",
       "      <td>10000</td>\n",
       "      <td>1</td>\n",
       "      <td>0</td>\n",
       "    </tr>\n",
       "    <tr>\n",
       "      <th>1</th>\n",
       "      <td>56</td>\n",
       "      <td>45</td>\n",
       "      <td>1467</td>\n",
       "      <td>1</td>\n",
       "      <td>10000</td>\n",
       "      <td>0</td>\n",
       "      <td>0</td>\n",
       "    </tr>\n",
       "    <tr>\n",
       "      <th>2</th>\n",
       "      <td>41</td>\n",
       "      <td>1270</td>\n",
       "      <td>1389</td>\n",
       "      <td>1</td>\n",
       "      <td>10000</td>\n",
       "      <td>1</td>\n",
       "      <td>0</td>\n",
       "    </tr>\n",
       "    <tr>\n",
       "      <th>3</th>\n",
       "      <td>55</td>\n",
       "      <td>2476</td>\n",
       "      <td>579</td>\n",
       "      <td>1</td>\n",
       "      <td>10000</td>\n",
       "      <td>1</td>\n",
       "      <td>0</td>\n",
       "    </tr>\n",
       "    <tr>\n",
       "      <th>4</th>\n",
       "      <td>54</td>\n",
       "      <td>184</td>\n",
       "      <td>673</td>\n",
       "      <td>2</td>\n",
       "      <td>10000</td>\n",
       "      <td>0</td>\n",
       "      <td>0</td>\n",
       "    </tr>\n",
       "    <tr>\n",
       "      <th>...</th>\n",
       "      <td>...</td>\n",
       "      <td>...</td>\n",
       "      <td>...</td>\n",
       "      <td>...</td>\n",
       "      <td>...</td>\n",
       "      <td>...</td>\n",
       "      <td>...</td>\n",
       "    </tr>\n",
       "    <tr>\n",
       "      <th>11157</th>\n",
       "      <td>33</td>\n",
       "      <td>1</td>\n",
       "      <td>257</td>\n",
       "      <td>1</td>\n",
       "      <td>10000</td>\n",
       "      <td>1</td>\n",
       "      <td>0</td>\n",
       "    </tr>\n",
       "    <tr>\n",
       "      <th>11158</th>\n",
       "      <td>39</td>\n",
       "      <td>733</td>\n",
       "      <td>83</td>\n",
       "      <td>4</td>\n",
       "      <td>10000</td>\n",
       "      <td>0</td>\n",
       "      <td>0</td>\n",
       "    </tr>\n",
       "    <tr>\n",
       "      <th>11159</th>\n",
       "      <td>32</td>\n",
       "      <td>29</td>\n",
       "      <td>156</td>\n",
       "      <td>2</td>\n",
       "      <td>10000</td>\n",
       "      <td>0</td>\n",
       "      <td>0</td>\n",
       "    </tr>\n",
       "    <tr>\n",
       "      <th>11160</th>\n",
       "      <td>43</td>\n",
       "      <td>0</td>\n",
       "      <td>9</td>\n",
       "      <td>2</td>\n",
       "      <td>172</td>\n",
       "      <td>0</td>\n",
       "      <td>0</td>\n",
       "    </tr>\n",
       "    <tr>\n",
       "      <th>11161</th>\n",
       "      <td>34</td>\n",
       "      <td>0</td>\n",
       "      <td>628</td>\n",
       "      <td>1</td>\n",
       "      <td>10000</td>\n",
       "      <td>0</td>\n",
       "      <td>0</td>\n",
       "    </tr>\n",
       "  </tbody>\n",
       "</table>\n",
       "<p>11162 rows × 7 columns</p>\n",
       "</div>"
      ],
      "text/plain": [
       "       age  balance  duration  campaign  pdays  housing_cat  poutcome_success\n",
       "0       59     2343      1042         1  10000            1                 0\n",
       "1       56       45      1467         1  10000            0                 0\n",
       "2       41     1270      1389         1  10000            1                 0\n",
       "3       55     2476       579         1  10000            1                 0\n",
       "4       54      184       673         2  10000            0                 0\n",
       "...    ...      ...       ...       ...    ...          ...               ...\n",
       "11157   33        1       257         1  10000            1                 0\n",
       "11158   39      733        83         4  10000            0                 0\n",
       "11159   32       29       156         2  10000            0                 0\n",
       "11160   43        0         9         2    172            0                 0\n",
       "11161   34        0       628         1  10000            0                 0\n",
       "\n",
       "[11162 rows x 7 columns]"
      ]
     },
     "execution_count": 2,
     "metadata": {},
     "output_type": "execute_result"
    }
   ],
   "source": [
    "bank_small"
   ]
  },
  {
   "cell_type": "code",
   "execution_count": 4,
   "metadata": {},
   "outputs": [
    {
     "data": {
      "text/html": [
       "<div>\n",
       "<style scoped>\n",
       "    .dataframe tbody tr th:only-of-type {\n",
       "        vertical-align: middle;\n",
       "    }\n",
       "\n",
       "    .dataframe tbody tr th {\n",
       "        vertical-align: top;\n",
       "    }\n",
       "\n",
       "    .dataframe thead th {\n",
       "        text-align: right;\n",
       "    }\n",
       "</style>\n",
       "<table border=\"1\" class=\"dataframe\">\n",
       "  <thead>\n",
       "    <tr style=\"text-align: right;\">\n",
       "      <th></th>\n",
       "      <th>deposit_cat</th>\n",
       "    </tr>\n",
       "  </thead>\n",
       "  <tbody>\n",
       "    <tr>\n",
       "      <th>0</th>\n",
       "      <td>1</td>\n",
       "    </tr>\n",
       "    <tr>\n",
       "      <th>1</th>\n",
       "      <td>1</td>\n",
       "    </tr>\n",
       "    <tr>\n",
       "      <th>2</th>\n",
       "      <td>1</td>\n",
       "    </tr>\n",
       "    <tr>\n",
       "      <th>3</th>\n",
       "      <td>1</td>\n",
       "    </tr>\n",
       "    <tr>\n",
       "      <th>4</th>\n",
       "      <td>1</td>\n",
       "    </tr>\n",
       "    <tr>\n",
       "      <th>...</th>\n",
       "      <td>...</td>\n",
       "    </tr>\n",
       "    <tr>\n",
       "      <th>11157</th>\n",
       "      <td>0</td>\n",
       "    </tr>\n",
       "    <tr>\n",
       "      <th>11158</th>\n",
       "      <td>0</td>\n",
       "    </tr>\n",
       "    <tr>\n",
       "      <th>11159</th>\n",
       "      <td>0</td>\n",
       "    </tr>\n",
       "    <tr>\n",
       "      <th>11160</th>\n",
       "      <td>0</td>\n",
       "    </tr>\n",
       "    <tr>\n",
       "      <th>11161</th>\n",
       "      <td>0</td>\n",
       "    </tr>\n",
       "  </tbody>\n",
       "</table>\n",
       "<p>11162 rows × 1 columns</p>\n",
       "</div>"
      ],
      "text/plain": [
       "       deposit_cat\n",
       "0                1\n",
       "1                1\n",
       "2                1\n",
       "3                1\n",
       "4                1\n",
       "...            ...\n",
       "11157            0\n",
       "11158            0\n",
       "11159            0\n",
       "11160            0\n",
       "11161            0\n",
       "\n",
       "[11162 rows x 1 columns]"
      ]
     },
     "execution_count": 4,
     "metadata": {},
     "output_type": "execute_result"
    }
   ],
   "source": [
    "bank_small_labels"
   ]
  },
  {
   "cell_type": "markdown",
   "metadata": {},
   "source": [
    "# Quiz: What is decision tree\n",
    "\n",
    "QUESTION 1 OF 2\n",
    "Decision Tree is\n",
    "Flow-Chart\n",
    "A tree you grow in your garden that helps you make life decisions\n",
    "Flow-Chart & Structure in which internal node represents test on an attribute, each branch represents outcome of test and each leaf node represents class label\n",
    "None of the mentioned\n",
    "\n",
    "QUESTION 2 OF 2\n",
    "A _________ is a support tool that uses a tree-like graph or model of decisions and their possible consequences, including chance event outcomes, resource costs, and utility.\n",
    "Decision tree\n",
    "Graphs\n",
    "Trees\n",
    "Neural Networks\n"
   ]
  },
  {
   "cell_type": "markdown",
   "metadata": {},
   "source": [
    "# Entropy calculation for entire set\n",
    "Now we will look at a hands-on implementation of entropy on the toy dataset in python.\n",
    "We define a modified log2 code to handle the log zero error. \n",
    "Then we calculate entropy on the entire dataset.\n"
   ]
  },
  {
   "cell_type": "code",
   "execution_count": 5,
   "metadata": {},
   "outputs": [
    {
     "name": "stdout",
     "output_type": "stream",
     "text": [
      "The entropy of the data before splitting is 1.00.\n",
      "\n"
     ]
    }
   ],
   "source": [
    "from math import log2\n",
    "def mod_log2(temp): # modified log2 to prevent zero error\n",
    "    if temp:\n",
    "        return log2(temp)\n",
    "    else:\n",
    "        return log2(temp+0.000000000000000000000000000001) # just a small value to add! \n",
    "# entropy of dataset before split\n",
    "total_label_dist = bank_small_labels['deposit_cat'].value_counts().to_dict()\n",
    "\n",
    "# total number of points\n",
    "num_total_data = bank_small_labels.count()[0]\n",
    "\n",
    "# number of positive class points\n",
    "pos_class_count = bank_small_labels[bank_small_labels['deposit_cat']==1].count()[0] \n",
    "# number of negative class points\n",
    "neg_class_count = bank_small_labels[bank_small_labels['deposit_cat']==0].count()[0] \n",
    "\n",
    "# calculate the full entropy of the data\n",
    "entropy_full_data = -(pos_class_count/num_total_data)*mod_log2(pos_class_count/num_total_data) + \\\n",
    "-(neg_class_count/num_total_data)*mod_log2(neg_class_count/num_total_data)\n",
    "print(\"The entropy of the data before splitting is %.2f.\\n\" % entropy_full_data)\n"
   ]
  },
  {
   "cell_type": "markdown",
   "metadata": {},
   "source": [
    "# Now let's look at the implementation of the entropy after the split on our toy data. \n",
    "We first split the data based on the splitting point and then get the distribution of class labels\n",
    "Then we take counts of data in the positive class (with class label 1) and negative class.\n"
   ]
  },
  {
   "cell_type": "code",
   "execution_count": 6,
   "metadata": {},
   "outputs": [],
   "source": [
    "# take the logical array of the indices for the data split\n",
    "age_left_split = bank_small['age'] < 39\n",
    "\n",
    "# taking the logical not operator to get the indices for the right split\n",
    "age_right_split = ~age_left_split\n",
    "\n",
    "# getting the class labels of the left split\n",
    "age_left_split_labels = bank_small_labels[age_left_split]\n",
    "\n",
    "# number of elements in the left split\n",
    "num_left_split = age_left_split_labels.count()[0]\n",
    "\n",
    "# getting the class labels of the right split\n",
    "age_right_split_labels = bank_small_labels[age_right_split]\n",
    "\n",
    "# number of elements in the right split\n",
    "num_right_split = age_right_split_labels.count()[0] \n",
    "\n",
    "# get the class label distribution \n",
    "left_split_dist = age_left_split_labels['deposit_cat'].value_counts().to_dict()\n",
    "right_split_dist = age_right_split_labels['deposit_cat'].value_counts().to_dict()\n"
   ]
  },
  {
   "cell_type": "markdown",
   "metadata": {},
   "source": [
    "\n",
    "For each of the splits, we individually calculate the entropy and then calculate the total entropy after the split.\n"
   ]
  },
  {
   "cell_type": "code",
   "execution_count": 7,
   "metadata": {},
   "outputs": [
    {
     "name": "stdout",
     "output_type": "stream",
     "text": [
      "The entropy of the data after splitting with age is 1.00.\n",
      "\n"
     ]
    }
   ],
   "source": [
    "# entropy of dataset after split - left side       \n",
    "try:\n",
    "    pos_cc_left_split = left_split_dist[1] # positive class counts\n",
    "except KeyError:\n",
    "    pos_cc_left_split = 0\n",
    "\n",
    "try:\n",
    "    neg_cc_left_split = left_split_dist[0] # negative class counts\n",
    "except KeyError:\n",
    "    neg_cc_left_split = 0\n",
    "\n",
    "\n",
    "entropy_age_left_split = -1*((pos_cc_left_split/num_left_split)*mod_log2(pos_cc_left_split/num_left_split)) + \\\n",
    "-1*((neg_cc_left_split/num_left_split)*mod_log2(neg_cc_left_split/num_left_split))\n",
    "\n",
    "# entropy of dataset after split - right side\n",
    "try:\n",
    "    pos_cc_right_split = right_split_dist[1] # positive class counts\n",
    "except KeyError:\n",
    "    pos_cc_right_split = 0\n",
    "\n",
    "try:\n",
    "    neg_cc_right_split = right_split_dist[0] # negative class counts\n",
    "except KeyError:\n",
    "    neg_cc_right_split = 0\n",
    "\n",
    "entropy_age_right_split = -1*((pos_cc_right_split/num_right_split)*mod_log2(pos_cc_right_split/num_right_split)) + \\\n",
    "-1*((neg_cc_right_split/num_right_split)*mod_log2(neg_cc_right_split/num_right_split))\n",
    "\n",
    "# combining both to get the correct entropy\n",
    "entropy_after_split_age = (num_left_split/num_total_data)*entropy_age_left_split + \\\n",
    "(num_right_split/num_total_data)*entropy_age_right_split\n",
    "print(\"The entropy of the data after splitting with age is %.2f.\\n\" % entropy_after_split_age)   \n"
   ]
  },
  {
   "cell_type": "markdown",
   "metadata": {},
   "source": [
    "In a similar way, we calculate the entropy of data after splitting at balance<1500.\n",
    "After that, we calculate the information gain for each attribute.\n"
   ]
  },
  {
   "cell_type": "code",
   "execution_count": 8,
   "metadata": {},
   "outputs": [
    {
     "name": "stdout",
     "output_type": "stream",
     "text": [
      "The information gain after splitting with age = 39 is 0.00.\n",
      "\n"
     ]
    },
    {
     "ename": "NameError",
     "evalue": "name 'entropy_after_split_bal' is not defined",
     "output_type": "error",
     "traceback": [
      "\u001b[1;31m---------------------------------------------------------------------------\u001b[0m",
      "\u001b[1;31mNameError\u001b[0m                                 Traceback (most recent call last)",
      "\u001b[1;32m<ipython-input-8-82c3a6ed420d>\u001b[0m in \u001b[0;36m<module>\u001b[1;34m\u001b[0m\n\u001b[0;32m      1\u001b[0m \u001b[1;31m#total_entropy - entropy_after_split_age\u001b[0m\u001b[1;33m\u001b[0m\u001b[1;33m\u001b[0m\u001b[1;33m\u001b[0m\u001b[0m\n\u001b[0;32m      2\u001b[0m \u001b[0mprint\u001b[0m\u001b[1;33m(\u001b[0m\u001b[1;34m\"The information gain after splitting with age = 39 is %.2f.\\n\"\u001b[0m \u001b[1;33m%\u001b[0m \u001b[1;33m(\u001b[0m\u001b[0mentropy_full_data\u001b[0m \u001b[1;33m-\u001b[0m \u001b[0mentropy_after_split_age\u001b[0m\u001b[1;33m)\u001b[0m\u001b[1;33m)\u001b[0m\u001b[1;33m\u001b[0m\u001b[1;33m\u001b[0m\u001b[0m\n\u001b[1;32m----> 3\u001b[1;33m \u001b[0mprint\u001b[0m\u001b[1;33m(\u001b[0m\u001b[1;34m\"The information gain after splitting with balance is %.2f.\\n\"\u001b[0m \u001b[1;33m%\u001b[0m \u001b[1;33m(\u001b[0m\u001b[0mentropy_full_data\u001b[0m \u001b[1;33m-\u001b[0m \u001b[0mentropy_after_split_bal\u001b[0m\u001b[1;33m)\u001b[0m\u001b[1;33m)\u001b[0m\u001b[1;33m\u001b[0m\u001b[1;33m\u001b[0m\u001b[0m\n\u001b[0m\u001b[0;32m      4\u001b[0m \u001b[1;33m\u001b[0m\u001b[0m\n",
      "\u001b[1;31mNameError\u001b[0m: name 'entropy_after_split_bal' is not defined"
     ]
    }
   ],
   "source": [
    "#total_entropy - entropy_after_split_age\n",
    "print(\"The information gain after splitting with age = 39 is %.2f.\\n\" % (entropy_full_data - entropy_after_split_age))\n",
    "print(\"The information gain after splitting with balance is %.2f.\\n\" % (entropy_full_data - entropy_after_split_bal))\n",
    "\n"
   ]
  },
  {
   "cell_type": "markdown",
   "metadata": {},
   "source": [
    "# GINI"
   ]
  },
  {
   "cell_type": "code",
   "execution_count": 9,
   "metadata": {},
   "outputs": [
    {
     "name": "stdout",
     "output_type": "stream",
     "text": [
      "The gini value of data after splitting with age=39 is 0.50.\n",
      "\n"
     ]
    }
   ],
   "source": [
    "try:\n",
    "    pos_cc_left_split = left_split_dist[1] # positive class counts\n",
    "except KeyError:\n",
    "    pos_cc_left_split = 0\n",
    "\n",
    "try:\n",
    "    neg_cc_left_split = left_split_dist[0] # negative class counts\n",
    "except KeyError:\n",
    "    neg_cc_left_split = 0\n",
    "\n",
    "gini_age_left_split = 1 - ((pos_cc_left_split/num_left_split)**2 + (neg_cc_left_split/num_left_split)**2)\n",
    "\n",
    "try:\n",
    "    pos_cc_right_split = right_split_dist[1] # positive class counts\n",
    "except KeyError:\n",
    "    pos_cc_right_split = 0\n",
    "\n",
    "try:\n",
    "    neg_cc_right_split = right_split_dist[0] # negative class counts\n",
    "except KeyError:\n",
    "    neg_cc_right_split = 0\n",
    "\n",
    "gini_age_right_split = 1 - ((pos_cc_right_split/num_right_split)**2 + (neg_cc_right_split/num_right_split)**2)\n",
    "\n",
    "gini_age_39 = (num_left_split/num_total_data)*gini_age_left_split + \\\n",
    "(num_right_split/num_total_data)*gini_age_right_split\n",
    "\n",
    "print(\"The gini value of data after splitting with age=39 is %.2f.\\n\" % gini_age_39)  \n"
   ]
  },
  {
   "cell_type": "markdown",
   "metadata": {},
   "source": [
    "# Using nominal values for splitting the decision tree\n"
   ]
  },
  {
   "cell_type": "code",
   "execution_count": 10,
   "metadata": {},
   "outputs": [],
   "source": [
    "# getting the split of the logical array\n",
    "housing_split_yes = bank_small['housing_cat']==1\n",
    "housing_split_no = ~housing_split_yes\n",
    "\n",
    "# get the class labels for the data split on housing_cat\n",
    "housing_split_yes_labels = bank_small_labels[housing_split_yes]\n",
    "housing_split_no_labels = bank_small_labels[housing_split_no]\n"
   ]
  },
  {
   "cell_type": "markdown",
   "metadata": {},
   "source": [
    "# Quiz: How to build a decision tree\n",
    "\n",
    "QUESTION 1 OF 1\n",
    "In Decision Tree, by comparing the impurity across all possible splits in all possible Predictors, the next split is choosen. Impurity in Decision Tree is generally measured using what?\n",
    "\n",
    "RMSE\n",
    "Entropy, Ginni-Index\n",
    "ROC\n",
    "MAPE\n"
   ]
  },
  {
   "cell_type": "markdown",
   "metadata": {},
   "source": [
    "ans:Entropy, Ginni-Index"
   ]
  },
  {
   "cell_type": "code",
   "execution_count": 12,
   "metadata": {},
   "outputs": [],
   "source": [
    "# import packages\n",
    "import pandas as pd\n",
    "feature_path='data_subset.csv'\n",
    "label_path='data_subset_label.csv'\n",
    "# Code starts here\n",
    "bank_full=pd.read_csv(feature_path)\n",
    "bank_full_labels=pd.read_csv(label_path)"
   ]
  },
  {
   "cell_type": "code",
   "execution_count": 13,
   "metadata": {},
   "outputs": [
    {
     "data": {
      "text/html": [
       "<div>\n",
       "<style scoped>\n",
       "    .dataframe tbody tr th:only-of-type {\n",
       "        vertical-align: middle;\n",
       "    }\n",
       "\n",
       "    .dataframe tbody tr th {\n",
       "        vertical-align: top;\n",
       "    }\n",
       "\n",
       "    .dataframe thead th {\n",
       "        text-align: right;\n",
       "    }\n",
       "</style>\n",
       "<table border=\"1\" class=\"dataframe\">\n",
       "  <thead>\n",
       "    <tr style=\"text-align: right;\">\n",
       "      <th></th>\n",
       "      <th>age</th>\n",
       "      <th>balance</th>\n",
       "      <th>duration</th>\n",
       "      <th>campaign</th>\n",
       "      <th>pdays</th>\n",
       "      <th>housing_cat</th>\n",
       "      <th>poutcome_success</th>\n",
       "    </tr>\n",
       "  </thead>\n",
       "  <tbody>\n",
       "    <tr>\n",
       "      <th>0</th>\n",
       "      <td>59</td>\n",
       "      <td>2343</td>\n",
       "      <td>1042</td>\n",
       "      <td>1</td>\n",
       "      <td>10000</td>\n",
       "      <td>1</td>\n",
       "      <td>0</td>\n",
       "    </tr>\n",
       "    <tr>\n",
       "      <th>1</th>\n",
       "      <td>56</td>\n",
       "      <td>45</td>\n",
       "      <td>1467</td>\n",
       "      <td>1</td>\n",
       "      <td>10000</td>\n",
       "      <td>0</td>\n",
       "      <td>0</td>\n",
       "    </tr>\n",
       "    <tr>\n",
       "      <th>2</th>\n",
       "      <td>41</td>\n",
       "      <td>1270</td>\n",
       "      <td>1389</td>\n",
       "      <td>1</td>\n",
       "      <td>10000</td>\n",
       "      <td>1</td>\n",
       "      <td>0</td>\n",
       "    </tr>\n",
       "    <tr>\n",
       "      <th>3</th>\n",
       "      <td>55</td>\n",
       "      <td>2476</td>\n",
       "      <td>579</td>\n",
       "      <td>1</td>\n",
       "      <td>10000</td>\n",
       "      <td>1</td>\n",
       "      <td>0</td>\n",
       "    </tr>\n",
       "    <tr>\n",
       "      <th>4</th>\n",
       "      <td>54</td>\n",
       "      <td>184</td>\n",
       "      <td>673</td>\n",
       "      <td>2</td>\n",
       "      <td>10000</td>\n",
       "      <td>0</td>\n",
       "      <td>0</td>\n",
       "    </tr>\n",
       "    <tr>\n",
       "      <th>...</th>\n",
       "      <td>...</td>\n",
       "      <td>...</td>\n",
       "      <td>...</td>\n",
       "      <td>...</td>\n",
       "      <td>...</td>\n",
       "      <td>...</td>\n",
       "      <td>...</td>\n",
       "    </tr>\n",
       "    <tr>\n",
       "      <th>11157</th>\n",
       "      <td>33</td>\n",
       "      <td>1</td>\n",
       "      <td>257</td>\n",
       "      <td>1</td>\n",
       "      <td>10000</td>\n",
       "      <td>1</td>\n",
       "      <td>0</td>\n",
       "    </tr>\n",
       "    <tr>\n",
       "      <th>11158</th>\n",
       "      <td>39</td>\n",
       "      <td>733</td>\n",
       "      <td>83</td>\n",
       "      <td>4</td>\n",
       "      <td>10000</td>\n",
       "      <td>0</td>\n",
       "      <td>0</td>\n",
       "    </tr>\n",
       "    <tr>\n",
       "      <th>11159</th>\n",
       "      <td>32</td>\n",
       "      <td>29</td>\n",
       "      <td>156</td>\n",
       "      <td>2</td>\n",
       "      <td>10000</td>\n",
       "      <td>0</td>\n",
       "      <td>0</td>\n",
       "    </tr>\n",
       "    <tr>\n",
       "      <th>11160</th>\n",
       "      <td>43</td>\n",
       "      <td>0</td>\n",
       "      <td>9</td>\n",
       "      <td>2</td>\n",
       "      <td>172</td>\n",
       "      <td>0</td>\n",
       "      <td>0</td>\n",
       "    </tr>\n",
       "    <tr>\n",
       "      <th>11161</th>\n",
       "      <td>34</td>\n",
       "      <td>0</td>\n",
       "      <td>628</td>\n",
       "      <td>1</td>\n",
       "      <td>10000</td>\n",
       "      <td>0</td>\n",
       "      <td>0</td>\n",
       "    </tr>\n",
       "  </tbody>\n",
       "</table>\n",
       "<p>11162 rows × 7 columns</p>\n",
       "</div>"
      ],
      "text/plain": [
       "       age  balance  duration  campaign  pdays  housing_cat  poutcome_success\n",
       "0       59     2343      1042         1  10000            1                 0\n",
       "1       56       45      1467         1  10000            0                 0\n",
       "2       41     1270      1389         1  10000            1                 0\n",
       "3       55     2476       579         1  10000            1                 0\n",
       "4       54      184       673         2  10000            0                 0\n",
       "...    ...      ...       ...       ...    ...          ...               ...\n",
       "11157   33        1       257         1  10000            1                 0\n",
       "11158   39      733        83         4  10000            0                 0\n",
       "11159   32       29       156         2  10000            0                 0\n",
       "11160   43        0         9         2    172            0                 0\n",
       "11161   34        0       628         1  10000            0                 0\n",
       "\n",
       "[11162 rows x 7 columns]"
      ]
     },
     "execution_count": 13,
     "metadata": {},
     "output_type": "execute_result"
    }
   ],
   "source": [
    "bank_full"
   ]
  },
  {
   "cell_type": "code",
   "execution_count": 14,
   "metadata": {},
   "outputs": [
    {
     "data": {
      "text/html": [
       "<div>\n",
       "<style scoped>\n",
       "    .dataframe tbody tr th:only-of-type {\n",
       "        vertical-align: middle;\n",
       "    }\n",
       "\n",
       "    .dataframe tbody tr th {\n",
       "        vertical-align: top;\n",
       "    }\n",
       "\n",
       "    .dataframe thead th {\n",
       "        text-align: right;\n",
       "    }\n",
       "</style>\n",
       "<table border=\"1\" class=\"dataframe\">\n",
       "  <thead>\n",
       "    <tr style=\"text-align: right;\">\n",
       "      <th></th>\n",
       "      <th>deposit_cat</th>\n",
       "    </tr>\n",
       "  </thead>\n",
       "  <tbody>\n",
       "    <tr>\n",
       "      <th>0</th>\n",
       "      <td>1</td>\n",
       "    </tr>\n",
       "    <tr>\n",
       "      <th>1</th>\n",
       "      <td>1</td>\n",
       "    </tr>\n",
       "    <tr>\n",
       "      <th>2</th>\n",
       "      <td>1</td>\n",
       "    </tr>\n",
       "    <tr>\n",
       "      <th>3</th>\n",
       "      <td>1</td>\n",
       "    </tr>\n",
       "    <tr>\n",
       "      <th>4</th>\n",
       "      <td>1</td>\n",
       "    </tr>\n",
       "    <tr>\n",
       "      <th>...</th>\n",
       "      <td>...</td>\n",
       "    </tr>\n",
       "    <tr>\n",
       "      <th>11157</th>\n",
       "      <td>0</td>\n",
       "    </tr>\n",
       "    <tr>\n",
       "      <th>11158</th>\n",
       "      <td>0</td>\n",
       "    </tr>\n",
       "    <tr>\n",
       "      <th>11159</th>\n",
       "      <td>0</td>\n",
       "    </tr>\n",
       "    <tr>\n",
       "      <th>11160</th>\n",
       "      <td>0</td>\n",
       "    </tr>\n",
       "    <tr>\n",
       "      <th>11161</th>\n",
       "      <td>0</td>\n",
       "    </tr>\n",
       "  </tbody>\n",
       "</table>\n",
       "<p>11162 rows × 1 columns</p>\n",
       "</div>"
      ],
      "text/plain": [
       "       deposit_cat\n",
       "0                1\n",
       "1                1\n",
       "2                1\n",
       "3                1\n",
       "4                1\n",
       "...            ...\n",
       "11157            0\n",
       "11158            0\n",
       "11159            0\n",
       "11160            0\n",
       "11161            0\n",
       "\n",
       "[11162 rows x 1 columns]"
      ]
     },
     "execution_count": 14,
     "metadata": {},
     "output_type": "execute_result"
    }
   ],
   "source": [
    "bank_full_labels"
   ]
  },
  {
   "cell_type": "markdown",
   "metadata": {},
   "source": [
    "# Q.2)Learning a decision tree on given data\n",
    "\n",
    "In this task, you will generate a decision tree on the data and also visualize it.\n",
    "Intructions\n",
    "Use the train_test_split() module to split the data and labels into train and test sets. Use 80% of the data for training and 20% of the data for testing. Save them as data_train(training features), data_test (test features), label_train (training labels) and label_test (test labels). Use random_state = 6.\n",
    "Use the tree.DecisionTreeClassifier() to initialize a decision tree object as dt2. Pass the parameter max_depth=2 while initializing the object. (You can also pass the parameter criterion=entropy/criterion=gini. It is criterion=gini by default).\n",
    "Use the fit() method of the decision tree object to train the decision tree on the training data i.e. on data_train and label_train\n",
    "Use the tree.export_graphviz() module to create the graphic visualization object of the learned tree 'dt2' .Input the parameters dt2, out_file=None, feature_names=bank_full.columns, filled = True, class_names=['term_deposit_yes','term_deposit_no'] and save it as dot_data\n",
    "Use the pydotplus.graph_from_dot_data() module to draw the graph. Save it as graph_big\n",
    "To display the graph we save the above created image into a file and display it using matplotlib. We have given you the code for the same. Do not modify the code for Show Graph given to you\n"
   ]
  },
  {
   "cell_type": "code",
   "execution_count": 29,
   "metadata": {},
   "outputs": [],
   "source": [
    "# import packages\n",
    " \n",
    "import numpy as np\n",
    "import matplotlib.pyplot as plt\n",
    "from io import StringIO\n",
    "from sklearn.tree import export_graphviz\n",
    "from sklearn.model_selection import train_test_split\n",
    "from sklearn import tree\n",
    "from sklearn import metrics\n",
    "\n",
    "import pydotplus\n",
    "from IPython.display import Image\n",
    "\n",
    " \n"
   ]
  },
  {
   "cell_type": "code",
   "execution_count": 30,
   "metadata": {},
   "outputs": [
    {
     "data": {
      "text/plain": [
       "DecisionTreeClassifier(ccp_alpha=0.0, class_weight=None, criterion='gini',\n",
       "                       max_depth=2, max_features=None, max_leaf_nodes=None,\n",
       "                       min_impurity_decrease=0.0, min_impurity_split=None,\n",
       "                       min_samples_leaf=1, min_samples_split=2,\n",
       "                       min_weight_fraction_leaf=0.0, presort='deprecated',\n",
       "                       random_state=None, splitter='best')"
      ]
     },
     "execution_count": 30,
     "metadata": {},
     "output_type": "execute_result"
    }
   ],
   "source": [
    "data_train,data_test,label_train,label_test=train_test_split(bank_full,bank_full_labels,test_size=0.2,random_state = 6)\n",
    "\n",
    "dt2=tree.DecisionTreeClassifier(max_depth=2,criterion='gini')#criterion=entropy/criterion=gini its gini by default\n",
    "\n",
    "dt2.fit(data_train,label_train)\n"
   ]
  },
  {
   "cell_type": "code",
   "execution_count": 31,
   "metadata": {},
   "outputs": [],
   "source": [
    "dot_data = tree.export_graphviz(dt2, out_file=None, feature_names=bank_full.columns, filled = True, \n",
    "                                class_names=['term_deposit_yes','term_deposit_no']) "
   ]
  },
  {
   "cell_type": "code",
   "execution_count": 35,
   "metadata": {},
   "outputs": [
    {
     "ename": "SyntaxError",
     "evalue": "(unicode error) 'unicodeescape' codec can't decode bytes in position 2-3: truncated \\UXXXXXXXX escape (<ipython-input-35-02cd73162dbb>, line 6)",
     "output_type": "error",
     "traceback": [
      "\u001b[1;36m  File \u001b[1;32m\"<ipython-input-35-02cd73162dbb>\"\u001b[1;36m, line \u001b[1;32m6\u001b[0m\n\u001b[1;33m    img_path = 'C:\\UsersA\\dmin\\Desktop'\u001b[0m\n\u001b[1;37m              ^\u001b[0m\n\u001b[1;31mSyntaxError\u001b[0m\u001b[1;31m:\u001b[0m (unicode error) 'unicodeescape' codec can't decode bytes in position 2-3: truncated \\UXXXXXXXX escape\n"
     ]
    }
   ],
   "source": [
    "# Draw graph\n",
    "graph_big = pydotplus.graph_from_dot_data(dot_data) \n",
    " \n",
    " \n",
    "# show graph - do not delete/modify the code below this line\n",
    "img_path = 'C:\\UsersA\\dmin\\Desktop\\1.png'\n",
    "graph_big.write_png(img_path)\n",
    " \n",
    "plt.figure(figsize=(14,18))\n",
    "plt.imshow(plt.imread(img_path))\n",
    "plt.axis('off')\n",
    "plt.show()\n",
    "# Code ends here\n"
   ]
  },
  {
   "cell_type": "markdown",
   "metadata": {},
   "source": [
    "# Q.3)Getting the accuracy of test data using decision tree\n",
    "\n",
    "We have earlier looked at the accuracy of test data on toy data. Let us look at accuracy on real test data\n",
    "Instructions\n",
    "Initialize a new decision tree 'dt2' with max_depth=3\n",
    "Fit 'dt2' model on 'data_train' and label_train\n",
    "Use 'the score() method of dt2 to find the accuracy of the learned decision tree on the training data and uses arguments data_train and label_train. (To learn how well model has learnt on training data) Save it as dt2_score_train\n",
    "Use the score() method this time to find the accuracy of the learned decision tree on the test data i.e. data_test and label_test. Save it as dt2_score_test\n",
    "Print the train and test accuracy scores\n"
   ]
  },
  {
   "cell_type": "code",
   "execution_count": 40,
   "metadata": {},
   "outputs": [],
   "source": [
    "# Code starts here\n",
    "from sklearn.tree import DecisionTreeClassifier\n",
    "dt2 = DecisionTreeClassifier(max_depth=3)\n",
    "dt2.fit(data_train,label_train)\n",
    "dt2_score_train = dt2.score(data_train,label_train)\n",
    "dt2_score_test =  dt2.score(data_test,label_test)\n",
    "\n",
    " \n"
   ]
  },
  {
   "cell_type": "code",
   "execution_count": 47,
   "metadata": {},
   "outputs": [
    {
     "name": "stdout",
     "output_type": "stream",
     "text": [
      "Socre with depth 3: 0.7550677567476761\n"
     ]
    }
   ],
   "source": [
    "print(\"Socre with depth 3:\",dt2_score_train)"
   ]
  },
  {
   "cell_type": "code",
   "execution_count": 48,
   "metadata": {},
   "outputs": [
    {
     "data": {
      "text/plain": [
       "0.7586206896551724"
      ]
     },
     "execution_count": 48,
     "metadata": {},
     "output_type": "execute_result"
    }
   ],
   "source": [
    "dt2_score_test"
   ]
  },
  {
   "cell_type": "markdown",
   "metadata": {},
   "source": [
    "# Q.4)Observe overfitting of decision tree on data\n",
    "\n",
    "In this task, we will try to see if there is overfitting on the training data, as we increase the depth of decision tree on the complete data.\n",
    "\n",
    "Instructions\n",
    "Initialize a new decision tree classifier dt4 with criterion=entropy , max_depth=4 and random_state=6\n",
    "Fit dt4 on data_train and label_train\n",
    "Find accuracy on training data as dt4_score_train using .score() method of dt4\n",
    "Find accuracy on test data as dt4_score_test using .score() method of dt4 on test data this time\n",
    "\n",
    "Now initalize a new decision tree classifier dt_full with arguments as criterion=entropy and random_state=6\n",
    "Fit dt_full on data_train and label_train\n",
    "Find accuracy on training data as dt_full_score_train using .score() method of dt_full\n",
    "Find accuracy on test data as dt_full_score_test using .score() method of dt_full on test data this time\n"
   ]
  },
  {
   "cell_type": "code",
   "execution_count": 43,
   "metadata": {},
   "outputs": [],
   "source": [
    "from sklearn.tree import DecisionTreeClassifier\n",
    "dt4=DecisionTreeClassifier(criterion='entropy' , max_depth=4 ,random_state=6)\n",
    "dt4.fit(data_train,label_train)\n",
    "dt4_score_train = dt4.score(data_train,label_train)\n",
    "dt4_score_test = dt4.score(data_test,label_test)\n",
    " \n"
   ]
  },
  {
   "cell_type": "code",
   "execution_count": 49,
   "metadata": {},
   "outputs": [
    {
     "name": "stdout",
     "output_type": "stream",
     "text": [
      "Socre with depth 4: 0.7842983536790235\n"
     ]
    }
   ],
   "source": [
    "print(\"Socre with depth 4:\",dt4_score_train)"
   ]
  },
  {
   "cell_type": "code",
   "execution_count": 45,
   "metadata": {},
   "outputs": [
    {
     "data": {
      "text/plain": [
       "0.7984773846842812"
      ]
     },
     "execution_count": 45,
     "metadata": {},
     "output_type": "execute_result"
    }
   ],
   "source": [
    "dt4_score_test"
   ]
  },
  {
   "cell_type": "code",
   "execution_count": 51,
   "metadata": {},
   "outputs": [],
   "source": [
    "dt_full = DecisionTreeClassifier(criterion='entropy' ,random_state=6)\n",
    "dt_full.fit(data_train,label_train)\n",
    "dt_full_score_train = dt_full.score(data_train,label_train)\n",
    "dt_full_score_test = dt_full.score(data_test,label_test)\n"
   ]
  },
  {
   "cell_type": "code",
   "execution_count": 52,
   "metadata": {},
   "outputs": [
    {
     "data": {
      "text/plain": [
       "1.0"
      ]
     },
     "execution_count": 52,
     "metadata": {},
     "output_type": "execute_result"
    }
   ],
   "source": [
    "dt_full_score_train # wen depth increases frm 4 to 5 it becomes overfitting"
   ]
  },
  {
   "cell_type": "code",
   "execution_count": 53,
   "metadata": {},
   "outputs": [
    {
     "data": {
      "text/plain": [
       "0.7344379758172862"
      ]
     },
     "execution_count": 53,
     "metadata": {},
     "output_type": "execute_result"
    }
   ],
   "source": [
    "dt_full_score_test"
   ]
  },
  {
   "cell_type": "code",
   "execution_count": 56,
   "metadata": {},
   "outputs": [],
   "source": [
    "# import packages\n",
    " \n",
    "import numpy as np\n",
    "import matplotlib.pyplot as plt\n",
    "from io import StringIO\n",
    "from sklearn.tree import export_graphviz\n",
    "from sklearn.model_selection import train_test_split\n",
    "from sklearn import tree\n",
    "from sklearn import metrics\n",
    "\n",
    "import pydotplus\n",
    "from IPython.display import Image\n"
   ]
  },
  {
   "cell_type": "code",
   "execution_count": 57,
   "metadata": {},
   "outputs": [
    {
     "ename": "InvocationException",
     "evalue": "GraphViz's executables not found",
     "output_type": "error",
     "traceback": [
      "\u001b[1;31m---------------------------------------------------------------------------\u001b[0m",
      "\u001b[1;31mInvocationException\u001b[0m                       Traceback (most recent call last)",
      "\u001b[1;32m<ipython-input-57-5b810cb93a23>\u001b[0m in \u001b[0;36m<module>\u001b[1;34m\u001b[0m\n\u001b[0;32m     14\u001b[0m \u001b[1;33m\u001b[0m\u001b[0m\n\u001b[0;32m     15\u001b[0m \u001b[1;31m# Show graph\u001b[0m\u001b[1;33m\u001b[0m\u001b[1;33m\u001b[0m\u001b[1;33m\u001b[0m\u001b[0m\n\u001b[1;32m---> 16\u001b[1;33m \u001b[0mImage\u001b[0m\u001b[1;33m(\u001b[0m\u001b[0mgraph_small\u001b[0m\u001b[1;33m.\u001b[0m\u001b[0mcreate_png\u001b[0m\u001b[1;33m(\u001b[0m\u001b[1;33m)\u001b[0m\u001b[1;33m)\u001b[0m\u001b[1;33m\u001b[0m\u001b[1;33m\u001b[0m\u001b[0m\n\u001b[0m",
      "\u001b[1;32m~\\anaconda3\\lib\\site-packages\\pydotplus\\graphviz.py\u001b[0m in \u001b[0;36m<lambda>\u001b[1;34m(f, prog)\u001b[0m\n\u001b[0;32m   1795\u001b[0m             self.__setattr__(\n\u001b[0;32m   1796\u001b[0m                 \u001b[1;34m'create_'\u001b[0m \u001b[1;33m+\u001b[0m \u001b[0mfrmt\u001b[0m\u001b[1;33m,\u001b[0m\u001b[1;33m\u001b[0m\u001b[1;33m\u001b[0m\u001b[0m\n\u001b[1;32m-> 1797\u001b[1;33m                 \u001b[1;32mlambda\u001b[0m \u001b[0mf\u001b[0m\u001b[1;33m=\u001b[0m\u001b[0mfrmt\u001b[0m\u001b[1;33m,\u001b[0m \u001b[0mprog\u001b[0m\u001b[1;33m=\u001b[0m\u001b[0mself\u001b[0m\u001b[1;33m.\u001b[0m\u001b[0mprog\u001b[0m\u001b[1;33m:\u001b[0m \u001b[0mself\u001b[0m\u001b[1;33m.\u001b[0m\u001b[0mcreate\u001b[0m\u001b[1;33m(\u001b[0m\u001b[0mformat\u001b[0m\u001b[1;33m=\u001b[0m\u001b[0mf\u001b[0m\u001b[1;33m,\u001b[0m \u001b[0mprog\u001b[0m\u001b[1;33m=\u001b[0m\u001b[0mprog\u001b[0m\u001b[1;33m)\u001b[0m\u001b[1;33m\u001b[0m\u001b[1;33m\u001b[0m\u001b[0m\n\u001b[0m\u001b[0;32m   1798\u001b[0m             )\n\u001b[0;32m   1799\u001b[0m             \u001b[0mf\u001b[0m \u001b[1;33m=\u001b[0m \u001b[0mself\u001b[0m\u001b[1;33m.\u001b[0m\u001b[0m__dict__\u001b[0m\u001b[1;33m[\u001b[0m\u001b[1;34m'create_'\u001b[0m \u001b[1;33m+\u001b[0m \u001b[0mfrmt\u001b[0m\u001b[1;33m]\u001b[0m\u001b[1;33m\u001b[0m\u001b[1;33m\u001b[0m\u001b[0m\n",
      "\u001b[1;32m~\\anaconda3\\lib\\site-packages\\pydotplus\\graphviz.py\u001b[0m in \u001b[0;36mcreate\u001b[1;34m(self, prog, format)\u001b[0m\n\u001b[0;32m   1958\u001b[0m             \u001b[1;32mif\u001b[0m \u001b[0mself\u001b[0m\u001b[1;33m.\u001b[0m\u001b[0mprogs\u001b[0m \u001b[1;32mis\u001b[0m \u001b[1;32mNone\u001b[0m\u001b[1;33m:\u001b[0m\u001b[1;33m\u001b[0m\u001b[1;33m\u001b[0m\u001b[0m\n\u001b[0;32m   1959\u001b[0m                 raise InvocationException(\n\u001b[1;32m-> 1960\u001b[1;33m                     'GraphViz\\'s executables not found')\n\u001b[0m\u001b[0;32m   1961\u001b[0m \u001b[1;33m\u001b[0m\u001b[0m\n\u001b[0;32m   1962\u001b[0m         \u001b[1;32mif\u001b[0m \u001b[0mprog\u001b[0m \u001b[1;32mnot\u001b[0m \u001b[1;32min\u001b[0m \u001b[0mself\u001b[0m\u001b[1;33m.\u001b[0m\u001b[0mprogs\u001b[0m\u001b[1;33m:\u001b[0m\u001b[1;33m\u001b[0m\u001b[1;33m\u001b[0m\u001b[0m\n",
      "\u001b[1;31mInvocationException\u001b[0m: GraphViz's executables not found"
     ]
    }
   ],
   "source": [
    "# Create decision tree classifer object\n",
    "dt10 = tree.DecisionTreeClassifier(criterion='entropy', min_samples_leaf=3)\n",
    "\n",
    "# Train the model\n",
    "dt10.fit(bank_small, bank_small_labels)\n",
    "\n",
    "# Create DOT data for visualizing the tree\n",
    "dot_data = tree.export_graphviz(dt10, out_file=None,\n",
    "                                feature_names=bank_small.columns, filled = True,  \n",
    "                                class_names=['term_deposit_no','term_deposit_yes'])\n",
    "\n",
    "# Draw graph\n",
    "graph_small = pydotplus.graph_from_dot_data(dot_data)  \n",
    "\n",
    "# Show graph\n",
    "Image(graph_small.create_png())\n"
   ]
  },
  {
   "cell_type": "markdown",
   "metadata": {},
   "source": [
    "# Q.5)Reduce overfitting by limiting the number of samples of leaf\n",
    "\n",
    "We have seen how max_depth helps in reducing overfitting. Now let's see how min_samples_leaf helps in reducing overfitting.\n",
    "Instructions\n",
    "Create new decision tree dt_msl with criterion='entropy' and min_samples_leaf=100\n",
    "Use the fit() method of the decision tree object to train the decision tree on the training data i.e. data_train and label_train\n",
    "Use the score() method of dt_msl to find the accuracy of the learned decision tree on the training data. (To learn how well model has learnt on training data) Save it as dt_msl_score_train\n",
    "Use the score() method to find the accuracy of the learned decision tree on the test data i.e. data_test and label_test. Save it as dt_msl_score_test\n",
    "Print the train and test accuracy scores\n"
   ]
  },
  {
   "cell_type": "code",
   "execution_count": 58,
   "metadata": {},
   "outputs": [
    {
     "name": "stdout",
     "output_type": "stream",
     "text": [
      "0.8102811065068877 0.812360053739364\n"
     ]
    }
   ],
   "source": [
    "# Code starts here\n",
    "from sklearn.tree import DecisionTreeClassifier\n",
    " \n",
    "dt_msl=DecisionTreeClassifier(criterion='entropy' , min_samples_leaf=100)\n",
    "dt_msl.fit(data_train,label_train)\n",
    "dt_msl_score_train = dt_msl.score(data_train,label_train)\n",
    "dt_msl_score_test = dt_msl.score(data_test,label_test)\n",
    "print(dt_msl_score_train,dt_msl_score_test)\n",
    " \n",
    "# Code ends here\n"
   ]
  },
  {
   "cell_type": "markdown",
   "metadata": {},
   "source": [
    "# Quiz: Overfitting in decision tree\n",
    "\n",
    "QUESTION 1 OF 2\n",
    "How we can avoid the overfitting in Decision Tree?\n",
    "CHAID(Stopping the tree growth)\n",
    "Pruning the full grown tree\n",
    "Both the above methods\n",
    "None of the above\n",
    "\n",
    "QUESTION  2 OF 2\n",
    "Pre-pruning the decision tree may result in _________.\n",
    "Overfitting\n",
    "Underfitting\n"
   ]
  }
 ],
 "metadata": {
  "kernelspec": {
   "display_name": "Python 3",
   "language": "python",
   "name": "python3"
  },
  "language_info": {
   "codemirror_mode": {
    "name": "ipython",
    "version": 3
   },
   "file_extension": ".py",
   "mimetype": "text/x-python",
   "name": "python",
   "nbconvert_exporter": "python",
   "pygments_lexer": "ipython3",
   "version": "3.7.6"
  }
 },
 "nbformat": 4,
 "nbformat_minor": 4
}
